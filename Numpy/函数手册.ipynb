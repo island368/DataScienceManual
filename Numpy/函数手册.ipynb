{
 "cells": [
  {
   "cell_type": "markdown",
   "source": [
    "| 函数名                                        | 作用|\n",
    "|--------------------------------------------|-----|\n",
    "| np.ndnarray.diagonal(affset, axis1, axis2) |返回矩阵对角线上的元素|\n",
    "| np.argsort                                 | 计算排好序的索引值|\n",
    "| np.partition(array, index, axis)           |计算前index个最小的元素|\n",
    "| np.argpartition(array, index, axis)|计算前index个最小元素的索引值|"
   ],
   "metadata": {
    "collapsed": false
   }
  },
  {
   "cell_type": "code",
   "execution_count": null,
   "outputs": [],
   "source": [],
   "metadata": {
    "collapsed": false
   }
  }
 ],
 "metadata": {
  "kernelspec": {
   "display_name": "Python 3",
   "language": "python",
   "name": "python3"
  },
  "language_info": {
   "codemirror_mode": {
    "name": "ipython",
    "version": 2
   },
   "file_extension": ".py",
   "mimetype": "text/x-python",
   "name": "python",
   "nbconvert_exporter": "python",
   "pygments_lexer": "ipython2",
   "version": "2.7.6"
  }
 },
 "nbformat": 4,
 "nbformat_minor": 0
}
