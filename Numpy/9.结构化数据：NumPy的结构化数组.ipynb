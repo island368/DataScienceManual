{
 "cells": [
  {
   "cell_type": "code",
   "execution_count": 1,
   "outputs": [],
   "source": [
    "import numpy as np"
   ],
   "metadata": {
    "collapsed": false
   }
  },
  {
   "cell_type": "code",
   "execution_count": 2,
   "outputs": [],
   "source": [
    "\"\"\"目前有一些人的数据需要进行存储，一种可行的办法是将其独立存储于三个数组\"\"\"\n",
    "name = ['Alice', 'Bob', 'Cathy', 'Doug']\n",
    "age = [25, 45, 37, 19]\n",
    "weight = [55.0, 87.5, 68.0, 61.5]"
   ],
   "metadata": {
    "collapsed": false
   }
  },
  {
   "cell_type": "code",
   "execution_count": 3,
   "outputs": [
    {
     "name": "stdout",
     "output_type": "stream",
     "text": [
      "[('name', '<U10'), ('age', '<i4'), ('weight', '<f8')]\n"
     ]
    }
   ],
   "source": [
    "\"\"\"构造一个结构化数组存储复合数据类型\"\"\"\n",
    "data = np.zeros(4, dtype={'names': ('name', 'age', 'weight'),\n",
    "                          'formats': ('U10', 'i4', 'f8')})\n",
    "print(data.dtype)"
   ],
   "metadata": {
    "collapsed": false
   }
  },
  {
   "cell_type": "markdown",
   "source": [
    "这里的U10表示\"长度不超过10的Unicode字符串\", i4表示\"4字节（即32比特）整型\",\n",
    "f8表示\"8字节（即64比特）浮点型\""
   ],
   "metadata": {
    "collapsed": false
   }
  },
  {
   "cell_type": "code",
   "execution_count": 4,
   "outputs": [
    {
     "name": "stdout",
     "output_type": "stream",
     "text": [
      "[('Alice', 25, 55. ) ('Bob', 45, 87.5) ('Cathy', 37, 68. )\n",
      " ('Doug', 19, 61.5)]\n"
     ]
    }
   ],
   "source": [
    "\"\"\"将列表数据放入生成的空容器中\"\"\"\n",
    "data['name'] = name\n",
    "data['age'] = age\n",
    "data['weight'] = weight\n",
    "print(data)"
   ],
   "metadata": {
    "collapsed": false
   }
  },
  {
   "cell_type": "code",
   "execution_count": 5,
   "outputs": [
    {
     "data": {
      "text/plain": "array(['Alice', 'Bob', 'Cathy', 'Doug'], dtype='<U10')"
     },
     "execution_count": 5,
     "metadata": {},
     "output_type": "execute_result"
    }
   ],
   "source": [
    "\"\"\"可以提供索引或名称查看结构化数组对应的值\"\"\"\n",
    "data['name']  # 获取所有名字"
   ],
   "metadata": {
    "collapsed": false
   }
  },
  {
   "cell_type": "code",
   "execution_count": 6,
   "outputs": [
    {
     "data": {
      "text/plain": "('Alice', 25, 55.)"
     },
     "execution_count": 6,
     "metadata": {},
     "output_type": "execute_result"
    }
   ],
   "source": [
    "data[0]  # 获取数据第一行"
   ],
   "metadata": {
    "collapsed": false
   }
  },
  {
   "cell_type": "code",
   "execution_count": 7,
   "outputs": [
    {
     "data": {
      "text/plain": "'Doug'"
     },
     "execution_count": 7,
     "metadata": {},
     "output_type": "execute_result"
    }
   ],
   "source": [
    "data[-1]['name']  # 获取最后一行的名字"
   ],
   "metadata": {
    "collapsed": false
   }
  },
  {
   "cell_type": "code",
   "execution_count": 8,
   "outputs": [
    {
     "data": {
      "text/plain": "array(['Alice', 'Doug'], dtype='<U10')"
     },
     "execution_count": 8,
     "metadata": {},
     "output_type": "execute_result"
    }
   ],
   "source": [
    "data[data['age']< 30]['name']  # 获取年龄小于30岁的人的名字"
   ],
   "metadata": {
    "collapsed": false
   }
  },
  {
   "cell_type": "markdown",
   "source": [
    "# 1. 生成结构化数组"
   ],
   "metadata": {
    "collapsed": false
   }
  },
  {
   "cell_type": "code",
   "execution_count": 9,
   "outputs": [
    {
     "data": {
      "text/plain": "dtype([('name', '<U10'), ('age', '<i4'), ('weight', '<f8')])"
     },
     "execution_count": 9,
     "metadata": {},
     "output_type": "execute_result"
    }
   ],
   "source": [
    "\"\"\"采用字典制定结构化数组的数据类型\"\"\"\n",
    "np.dtype({'names':('name', 'age', 'weight'),\n",
    "          'formats': ('U10', 'i4', 'f8')})"
   ],
   "metadata": {
    "collapsed": false
   }
  },
  {
   "cell_type": "code",
   "execution_count": 10,
   "outputs": [
    {
     "data": {
      "text/plain": "dtype([('name', '<U10'), ('age', '<i4'), ('weight', '<f4')])"
     },
     "execution_count": 10,
     "metadata": {},
     "output_type": "execute_result"
    }
   ],
   "source": [
    "\"\"\"结构化数组的数据类型也可使用Python类型或NumPy的dtype类型指定\"\"\"\n",
    "np.dtype({'names': ('name', 'age', 'weight'),\n",
    "          'formats': ((np.str_, 10), int, np.float32)})"
   ],
   "metadata": {
    "collapsed": false
   }
  },
  {
   "cell_type": "code",
   "execution_count": 11,
   "outputs": [
    {
     "data": {
      "text/plain": "dtype([('name', 'S10'), ('age', '<i4'), ('weight', '<f8')])"
     },
     "execution_count": 11,
     "metadata": {},
     "output_type": "execute_result"
    }
   ],
   "source": [
    "\"\"\"复合类型也可以是元组类型\"\"\"\n",
    "np.dtype([('name', 'S10'), ('age', 'i4'), ('weight', 'f8')])"
   ],
   "metadata": {
    "collapsed": false
   }
  },
  {
   "cell_type": "code",
   "execution_count": 12,
   "outputs": [
    {
     "data": {
      "text/plain": "dtype([('f0', 'S10'), ('f1', '<i4'), ('f2', '<f8')])"
     },
     "execution_count": 12,
     "metadata": {},
     "output_type": "execute_result"
    }
   ],
   "source": [
    "\"\"\"如果类型的名称不重要，可以使用一个字符串来指定结构化数组的类型，在该字符串中数据类型用逗号分隔\"\"\"\n",
    "np.dtype('S10, i4, f8')"
   ],
   "metadata": {
    "collapsed": false
   }
  },
  {
   "cell_type": "markdown",
   "source": [
    "NumPy简写的字符串格式解释如下:\n",
    "* 第一个(可选)字符是 < 或者 >, 分别表示\"低字节序\"和\"高字节序号\"，表示字节类型的数据在内存中存放顺序的习惯用法\n",
    "* 第二个字符指定的是数据类型\n",
    "* 第三个字符表示该对象的字节大小"
   ],
   "metadata": {
    "collapsed": false
   }
  },
  {
   "cell_type": "markdown",
   "source": [
    "|NumPy数据类型符号| 描述| 示例                               |\n",
    "|---------|-------------|----------------------------------|\n",
    "| 'b' | 字节型| np.dtype('b')                    |\n",
    "|'i' | 有符号整型 | np.dtype('i4') == np.int32       |\n",
    "|'u'| 无符号整型| np.dtype('u1') == np.uint8       |\n",
    "|'f'| 浮点型| np.dtype('f8') == np.float64     |\n",
    "|'c'|复数浮点型| np.dtype('c16') == np.complex128 |\n",
    "|'S'、'a'|字符串| np.dtype('S5')\n",
    "|'U'|Unicode编码字符串| np.dtype('U') == np.str_         |\n",
    "|'V'|原生数据，raw data(空，void)| np.dtype('V') == np.void         |"
   ],
   "metadata": {
    "collapsed": false
   }
  },
  {
   "cell_type": "markdown",
   "source": [],
   "metadata": {
    "collapsed": false
   }
  },
  {
   "cell_type": "markdown",
   "source": [
    "# 2.更高级的复合类型"
   ],
   "metadata": {
    "collapsed": false
   }
  },
  {
   "cell_type": "markdown",
   "source": [
    "NumPy中可以定义更高级的复合数据类型\n",
    "例如：可以创建一种类型，其中每个元素都包含一个数值或矩阵。\n",
    "我们可以创建一个数据类型，该数据类型使用mat组件包含一个3 * 3的浮点矩阵"
   ],
   "metadata": {
    "collapsed": false
   }
  },
  {
   "cell_type": "code",
   "execution_count": 22,
   "outputs": [
    {
     "name": "stdout",
     "output_type": "stream",
     "text": [
      "(0, [[0., 0., 0.], [0., 0., 0.], [0., 0., 0.]])\n",
      "[[0. 0. 0.]\n",
      " [0. 0. 0.]\n",
      " [0. 0. 0.]]\n"
     ]
    }
   ],
   "source": [
    "tp = np.dtype([('id', 'i8'), ('mat', 'f8', (3, 3))])\n",
    "X = np.zeros(1, dtype=tp)\n",
    "print(X[0])\n",
    "print(X['mat'][0])"
   ],
   "metadata": {
    "collapsed": false
   }
  },
  {
   "cell_type": "markdown",
   "source": [
    "# 3.记录数值：结构化数值的扭转"
   ],
   "metadata": {
    "collapsed": false
   }
  },
  {
   "cell_type": "markdown",
   "source": [
    "NumPy还提供了np.recarray类,使用该类创建的结构化数值，域可以像属性一样获取"
   ],
   "metadata": {
    "collapsed": false
   }
  },
  {
   "cell_type": "code",
   "execution_count": 23,
   "outputs": [
    {
     "data": {
      "text/plain": "array([25, 45, 37, 19])"
     },
     "execution_count": 23,
     "metadata": {},
     "output_type": "execute_result"
    }
   ],
   "source": [
    "data['age']"
   ],
   "metadata": {
    "collapsed": false
   }
  },
  {
   "cell_type": "code",
   "execution_count": 25,
   "outputs": [
    {
     "data": {
      "text/plain": "array([25, 45, 37, 19])"
     },
     "execution_count": 25,
     "metadata": {},
     "output_type": "execute_result"
    }
   ],
   "source": [
    "\"\"\"如果将这些数据当作一个记录数组，我们可以用很少的按键来获取这个结果\"\"\"\n",
    "data_rec = data.view(np.recarray)\n",
    "data_rec.age"
   ],
   "metadata": {
    "collapsed": false
   }
  },
  {
   "cell_type": "code",
   "execution_count": 26,
   "outputs": [
    {
     "name": "stdout",
     "output_type": "stream",
     "text": [
      "82.8 ns ± 0.786 ns per loop (mean ± std. dev. of 7 runs, 10000000 loops each)\n",
      "1.51 µs ± 16.2 ns per loop (mean ± std. dev. of 7 runs, 1000000 loops each)\n",
      "2.56 µs ± 41 ns per loop (mean ± std. dev. of 7 runs, 100000 loops each)\n"
     ]
    }
   ],
   "source": [
    "# 使用这样的方法会有一些额外的开销\n",
    "%timeit data['age']\n",
    "%timeit data_rec['age']\n",
    "%timeit data_rec.age"
   ],
   "metadata": {
    "collapsed": false
   }
  },
  {
   "cell_type": "code",
   "execution_count": null,
   "outputs": [],
   "source": [],
   "metadata": {
    "collapsed": false
   }
  }
 ],
 "metadata": {
  "kernelspec": {
   "name": "machinelearning",
   "language": "python",
   "display_name": "MachineLearning"
  },
  "language_info": {
   "codemirror_mode": {
    "name": "ipython",
    "version": 2
   },
   "file_extension": ".py",
   "mimetype": "text/x-python",
   "name": "python",
   "nbconvert_exporter": "python",
   "pygments_lexer": "ipython2",
   "version": "2.7.6"
  }
 },
 "nbformat": 4,
 "nbformat_minor": 0
}
